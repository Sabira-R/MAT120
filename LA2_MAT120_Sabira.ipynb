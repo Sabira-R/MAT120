{
  "nbformat": 4,
  "nbformat_minor": 0,
  "metadata": {
    "colab": {
      "provenance": []
    },
    "kernelspec": {
      "name": "python3",
      "display_name": "Python 3"
    },
    "language_info": {
      "name": "python"
    }
  },
  "cells": [
    {
      "cell_type": "code",
      "execution_count": null,
      "metadata": {
        "colab": {
          "base_uri": "https://localhost:8080/"
        },
        "id": "lJVynZg7satV",
        "outputId": "717614ad-2db0-41d7-8aac-f1281abdffd5"
      },
      "outputs": [
        {
          "output_type": "stream",
          "name": "stdout",
          "text": [
            "First derivative of the given function :  8*x**3 + 3*x**2 + 4\n",
            "Second derivative of the given function :  6*x*(4*x + 1)\n",
            "Third derivative of the given function :  6*(8*x + 1)\n"
          ]
        }
      ],
      "source": [
        "#Task-01 (a)\n",
        "\n",
        "from sympy import*\n",
        "x= symbols('x')\n",
        "\n",
        "f = 2*x**4+x**3+4*x\n",
        "df = diff(f,x)\n",
        "df2 = diff (f,x,2)\n",
        "df3 = diff (f,x,3)\n",
        "\n",
        "print('First derivative of the given function : ', df)\n",
        "\n",
        "#Viva part\n",
        "\n",
        "df2 = diff (f,x,2)\n",
        "df3 = diff (f,x,3)\n",
        "\n",
        "print('Second derivative of the given function : ', df2)\n",
        "print('Third derivative of the given function : ', df3)"
      ]
    },
    {
      "cell_type": "code",
      "source": [
        "#Task-01 (b)\n",
        "\n",
        "from sympy import*\n",
        "x= symbols('x')\n",
        "\n",
        "f = 2*x**4+x**3+4*x\n",
        "df = diff(f,x)\n",
        "print('First derivative :',df)\n",
        "\n",
        "df = lambdify(x,df)\n",
        "print('Value of the first derivative when x=4 :',df(4))"
      ],
      "metadata": {
        "colab": {
          "base_uri": "https://localhost:8080/"
        },
        "id": "7yaaVvTGtAWl",
        "outputId": "211e1deb-bec9-495e-b3eb-eabd41a09d1e"
      },
      "execution_count": null,
      "outputs": [
        {
          "output_type": "stream",
          "name": "stdout",
          "text": [
            "First derivative : 8*x**3 + 3*x**2 + 4\n",
            "Value of the first derivative when x=4 : 564\n"
          ]
        }
      ]
    },
    {
      "cell_type": "code",
      "source": [
        "#Task-01 (c)\n",
        "from sympy import*\n",
        "x= symbols('x')\n",
        "\n",
        "f = 2*x**4+x**3+4*x\n",
        "df = diff(f,x)\n",
        "print('First derivative :',df)\n",
        "\n",
        "dF = lambdify(x,df)\n",
        "\n",
        "from numpy import*\n",
        "#test_numbers = arange(-5,7) #-5,6\n",
        "#a=df(test_numbers)\n",
        "\n",
        "x_vals = [val/10 for val in range(-50, 61)] #-5,6\n",
        "y_vals = [df.subs(x, val) for val in x_vals]\n",
        "\n",
        "import matplotlib.pyplot as plt\n",
        "plt.plot(x_vals , y_vals)\n",
        "plt.xlabel('x')\n",
        "plt.ylabel('dy')\n",
        "plt.title('Graph for the given function')\n",
        "plt.show()"
      ],
      "metadata": {
        "colab": {
          "base_uri": "https://localhost:8080/",
          "height": 489
        },
        "id": "K_bN9uCpyeL9",
        "outputId": "e78a531a-40a8-4018-c3b1-6ffae8b31a50"
      },
      "execution_count": null,
      "outputs": [
        {
          "output_type": "stream",
          "name": "stdout",
          "text": [
            "First derivative : 8*x**3 + 3*x**2 + 4\n"
          ]
        },
        {
          "output_type": "display_data",
          "data": {
            "text/plain": [
              "<Figure size 640x480 with 1 Axes>"
            ],
            "image/png": "[encoded data removed]"
          },
          "metadata": {}
        }
      ]
    },
    {
      "cell_type": "code",
      "source": [
        "#Task-02 (a)\n",
        "\n",
        "from sympy import*\n",
        "x=symbols('x')\n",
        "\n",
        "f= ((1+x**0.5)**(1/3))/(x**0.5)\n",
        "integrate(f,x)"
      ],
      "metadata": {
        "colab": {
          "base_uri": "https://localhost:8080/",
          "height": 42
        },
        "id": "L0ngEjGh3UN7",
        "outputId": "64f26655-1a59-460c-d373-903fa8df0a2f"
      },
      "execution_count": null,
      "outputs": [
        {
          "output_type": "execute_result",
          "data": {
            "text/plain": [
              "1.5*(x**0.5 + 1)**1.33333333333333"
            ],
            "text/latex": "$\\displaystyle 1.5 \\left(x^{0.5} + 1\\right)^{1.33333333333333}$"
          },
          "metadata": {},
          "execution_count": 3
        }
      ]
    },
    {
      "cell_type": "code",
      "source": [
        "#Task-02 (b)\n",
        "\n",
        "from numpy import*\n",
        "from scipy.integrate import*\n",
        "f = lambda x: exp(sin(x))\n",
        "quad (f, 1, 2)"
      ],
      "metadata": {
        "colab": {
          "base_uri": "https://localhost:8080/"
        },
        "id": "9FpL6Zr16WMT",
        "outputId": "5ee9b895-5a78-4979-b629-5e03446bce0a"
      },
      "execution_count": null,
      "outputs": [
        {
          "output_type": "execute_result",
          "data": {
            "text/plain": [
              "(2.6046615488029587, 2.891755222836866e-14)"
            ]
          },
          "metadata": {},
          "execution_count": 1
        }
      ]
    },
    {
      "cell_type": "code",
      "source": [
        "#Task-03\n",
        "\n",
        "from sympy import*\n",
        "\n",
        "x = symbols('x')\n",
        "y = Function('y')\n",
        "\n",
        "y1 = Derivative(y(x), x)\n",
        "y2 = Derivative(y(x), x, 2)\n",
        "\n",
        "df = y2 - (6 * y1) + (5 * y(x))\n",
        "\n",
        "solve = dsolve(df, y(x), ics = {y(0) : 1, y1.subs(x,0) : 0 })\n",
        "print(f\"An eqn that solves initial value condition is: {solve}\")"
      ],
      "metadata": {
        "colab": {
          "base_uri": "https://localhost:8080/"
        },
        "id": "O83fy8AtugJ_",
        "outputId": "4bd7e6ba-2966-41ec-8f09-2606208cb87d"
      },
      "execution_count": null,
      "outputs": [
        {
          "output_type": "stream",
          "name": "stdout",
          "text": [
            "An eqn that solves initial value condition is: Eq(y(x), (5/4 - exp(4*x)/4)*exp(x))\n"
          ]
        }
      ]
    }
  ]
}